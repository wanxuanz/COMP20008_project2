{
 "cells": [
  {
   "cell_type": "code",
   "execution_count": 2,
   "metadata": {},
   "outputs": [],
   "source": [
    "import pandas as pd\n",
    "import numpy as np\n",
    "from sklearn import neighbors\n",
    "from sklearn.model_selection import train_test_split\n",
    "from sklearn.metrics import accuracy_score\n",
    "from sklearn import preprocessing\n",
    "from sklearn.cluster import KMeans\n",
    "from sklearn.decomposition import PCA\n",
    "import matplotlib.pyplot as plt"
   ]
  },
  {
   "cell_type": "code",
   "execution_count": 3,
   "metadata": {},
   "outputs": [],
   "source": [
    "world = pd.read_csv('world.csv',encoding = 'ISO-8859-1')\n",
    "life = pd.read_csv('life.csv',encoding = 'ISO-8859-1')\n",
    "\n",
    "w_data = pd.merge(world[:-5], life, on='Country Code', how='outer')\n",
    "w_data.drop(w_data.columns[[0,1,2,23,24]], axis=1, inplace=True)\n",
    "\n",
    "# remove the rows that do not have a class label\n",
    "w_data = w_data[w_data['Life expectancy at birth (years)'].notna()]\n",
    "\n",
    "for column in w_data.columns[:-1]:\n",
    "    # replace nan cells as empty string\n",
    "    w_data[column].replace(['...','..'], np.nan, inplace=True)\n",
    "    median = w_data[column].median()\n",
    "    w_data[column].replace(np.nan, median, inplace=True)\n",
    "\n",
    "life_data = w_data.iloc[:,-1]\n",
    "\n",
    "# convert values in the feature columns to float\n",
    "w_data = w_data[w_data.columns[:-1]].astype(float)\n",
    "\n",
    "w_data['Life expectancy at birth (years)'] = life_data"
   ]
  },
  {
   "cell_type": "code",
   "execution_count": 4,
   "metadata": {},
   "outputs": [],
   "source": [
    "# feature generation using interaction term pairs\n",
    "feature = pd.DataFrame()\n",
    "\n",
    "for i in range(len(w_data.iloc[:,:-1].columns)):\n",
    "    for j in range(i+1,20):\n",
    "        f1 = w_data.columns[i]\n",
    "        f2 = w_data.columns[j]\n",
    "        col = f1+' and '+f2\n",
    "        feature[col] = w_data[f1] * w_data[f2]"
   ]
  },
  {
   "cell_type": "code",
   "execution_count": 5,
   "metadata": {},
   "outputs": [
    {
     "data": {
      "image/png": "[encoded data removed]",
      "text/plain": [
       "<Figure size 432x288 with 1 Axes>"
      ]
     },
     "metadata": {
      "needs_background": "light"
     },
     "output_type": "display_data"
    }
   ],
   "source": [
    "# elbow method to determine numbers of k\n",
    "wcss = []\n",
    "for i in range(1, 11):\n",
    "    kmeans = KMeans(n_clusters=i)\n",
    "    kmeans.fit(w_data.iloc[:,:-1])\n",
    "    wcss.append(kmeans.inertia_)\n",
    "plt.plot(range(1, 11), wcss)\n",
    "plt.title('Elbow Method')\n",
    "plt.xlabel('Number of clusters')\n",
    "plt.ylabel('WCSS')\n",
    "plt.savefig('task2bgraph1.png', bbox_inches='tight')"
   ]
  },
  {
   "cell_type": "code",
   "execution_count": 6,
   "metadata": {},
   "outputs": [],
   "source": [
    "# feature generation using clustering labels\n",
    "kmeans = KMeans(n_clusters=3)\n",
    "kmeans.fit(w_data.iloc[:,:-1])\n",
    "feature['clusterlabel'] = kmeans.predict(w_data.iloc[:,:-1])\n",
    "\n",
    "# append all 211 features in the dataframe\n",
    "for col in w_data.columns:\n",
    "    feature[col] = w_data[col]\n",
    "    \n",
    "feature['Life expectancy at birth (years)'] = w_data['Life expectancy at birth (years)'] "
   ]
  },
  {
   "cell_type": "code",
   "execution_count": 7,
   "metadata": {},
   "outputs": [],
   "source": [
    "#randomly select 66% of the instances to be training and the rest to be testing\n",
    "lifeclass = feature['Life expectancy at birth (years)']\n",
    "fX_train, fX_test, fy_train, fy_test = train_test_split(feature.iloc[:,:-1], lifeclass, train_size=2/3, test_size=1/3, random_state=100)\n",
    "\n",
    "# calculate normalised mutual information for each feature\n",
    "from sklearn.metrics import accuracy_score, normalized_mutual_info_score, mutual_info_score\n",
    "mi_dict = {}\n",
    "for col in feature.iloc[:,:-1].columns:\n",
    "    mi = normalized_mutual_info_score(fX_train[col], fy_train)\n",
    "    mi_dict[col] = mi\n",
    "mi_df = pd.DataFrame(list(mi_dict.values()),columns = ['NMI'], index = mi_dict.keys())\n",
    "\n",
    "# sort the NMI scores from highest to lowest\n",
    "mi_df.sort_values(by = 'NMI',ascending = False, inplace = True) "
   ]
  },
  {
   "cell_type": "code",
   "execution_count": 8,
   "metadata": {},
   "outputs": [
    {
     "data": {
      "text/plain": [
       "['Access to electricity, rural (% of rural population) [EG.ELC.ACCS.RU.ZS]',\n",
       " 'Access to electricity, rural (% of rural population) [EG.ELC.ACCS.RU.ZS] and Mortality rate attributed to unintentional poisoning, female (per 100,000 female population) [SH.STA.POIS.P5.FE]',\n",
       " 'Access to electricity, rural (% of rural population) [EG.ELC.ACCS.RU.ZS] and Mortality rate attributed to household and ambient air pollution, age-standardized, male (per 100,000 male population) [SH.STA.AIRP.MA.P5]',\n",
       " 'Mortality rate attributed to household and ambient air pollution, age-standardized, male (per 100,000 male population) [SH.STA.AIRP.MA.P5] and Mortality rate attributed to unsafe water, unsafe sanitation and lack of hygiene (per 100,000 population) [SH.STA.WASH.P5]']"
      ]
     },
     "execution_count": 8,
     "metadata": {},
     "output_type": "execute_result"
    }
   ],
   "source": [
    "list(mi_df[:4].index)"
   ]
  },
  {
   "cell_type": "code",
   "execution_count": 16,
   "metadata": {},
   "outputs": [
    {
     "name": "stdout",
     "output_type": "stream",
     "text": [
      "Accuracy of feature engineering: 0.770\n"
     ]
    }
   ],
   "source": [
    "# get the top 4 features with highest NMI\n",
    "selected_f = feature[list(mi_df[:4].index)]\n",
    "feX_train, feX_test, fey_train, fey_test = train_test_split(selected_f, lifeclass, train_size=2/3, test_size=1/3, random_state=100)\n",
    "scaler2 = preprocessing.StandardScaler().fit(feX_train)\n",
    "feX_train=scaler2.transform(feX_train)\n",
    "feX_test=scaler2.transform(feX_test)\n",
    "\n",
    "# k-NN (k=5) classification use features sort by MI\n",
    "knn_fe = neighbors.KNeighborsClassifier(n_neighbors=5)\n",
    "knn_fe.fit(feX_train, fey_train)\n",
    "fey_pred=knn_fe.predict(feX_test)\n",
    "print(f'Accuracy of feature engineering: {accuracy_score(fey_test, fey_pred):.3f}')"
   ]
  },
  {
   "cell_type": "code",
   "execution_count": 17,
   "metadata": {},
   "outputs": [
    {
     "name": "stdout",
     "output_type": "stream",
     "text": [
      "Accuracy of PCA: 0.754\n"
     ]
    }
   ],
   "source": [
    "pX_train, pX_test, py_train, py_test = train_test_split(feature.iloc[:,191:-1], lifeclass, train_size=2/3, test_size=1/3, random_state=100)\n",
    "\n",
    "# normalise the data \n",
    "scaler1 = preprocessing.StandardScaler().fit(pX_train)\n",
    "pX_train=scaler1.transform(pX_train)\n",
    "pX_test=scaler1.transform(pX_test)\n",
    "\n",
    "pca = PCA(n_components=4)\n",
    "pX_train = pca.fit_transform(pX_train)\n",
    "pX_test = pca.fit_transform(pX_test)\n",
    "\n",
    "knn_pca = neighbors.KNeighborsClassifier(n_neighbors=5)\n",
    "knn_pca.fit(pX_train, py_train)\n",
    "py_pred=knn_pca.predict(pX_test)\n",
    "print(f'Accuracy of PCA: {accuracy_score(py_test, py_pred):.3f}')"
   ]
  },
  {
   "cell_type": "code",
   "execution_count": 18,
   "metadata": {},
   "outputs": [
    {
     "name": "stdout",
     "output_type": "stream",
     "text": [
      "Accuracy of first four features: 0.754\n"
     ]
    }
   ],
   "source": [
    "# k-NN (k=5) classification use the first four features \n",
    "ffX_train, ffX_test, ffy_train, ffy_test = train_test_split(feature.iloc[:,191:195], lifeclass, train_size=2/3, test_size=1/3, random_state=100)\n",
    "scaler3 = preprocessing.StandardScaler().fit(ffX_train)\n",
    "ffX_train=scaler3.transform(ffX_train)\n",
    "ffX_test=scaler3.transform(ffX_test)\n",
    "knn_ff = neighbors.KNeighborsClassifier(n_neighbors=5)\n",
    "knn_ff.fit(ffX_train, ffy_train)\n",
    "ffy_pred=knn_ff.predict(ffX_test)\n",
    "print(f'Accuracy of first four features: {accuracy_score(ffy_test, ffy_pred):.3f}')"
   ]
  }
 ],
 "metadata": {
  "kernelspec": {
   "display_name": "Python 3",
   "language": "python",
   "name": "python3"
  },
  "language_info": {
   "codemirror_mode": {
    "name": "ipython",
    "version": 3
   },
   "file_extension": ".py",
   "mimetype": "text/x-python",
   "name": "python",
   "nbconvert_exporter": "python",
   "pygments_lexer": "ipython3",
   "version": "3.7.4"
  }
 },
 "nbformat": 4,
 "nbformat_minor": 4
}
