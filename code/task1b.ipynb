{
 "cells": [
  {
   "cell_type": "code",
   "execution_count": null,
   "metadata": {},
   "outputs": [],
   "source": [
    "import pandas as pd\n",
    "import numpy as np\n",
    "from collections import defaultdict "
   ]
  },
  {
   "cell_type": "code",
   "execution_count": null,
   "metadata": {},
   "outputs": [],
   "source": [
    "amazon = pd.read_csv('amazon.csv')\n",
    "google = pd.read_csv('google.csv')\n",
    "truth = pd.read_csv(\"amazon_google_truth.csv\")\n",
    "\n",
    "for i in range(len(google)):\n",
    "    if 'gbp' in google[\"price\"][i]:\n",
    "        google[\"price\"][i] = float(google[\"price\"][i][:-3])*1.86\n",
    "        \n",
    "google[\"price\"] = google[\"price\"].astype(float)\n",
    "\n",
    "google = google.sort_values(by=['price'])"
   ]
  },
  {
   "cell_type": "code",
   "execution_count": null,
   "metadata": {},
   "outputs": [],
   "source": [
    "range_list = []\n",
    "for num in range(0,250,25):\n",
    "     range_list.append(num)\n",
    "for num in range(250,500,50):\n",
    "     range_list.append(num)\n",
    "for num in range(500,1000,100):\n",
    "     range_list.append(num)\n",
    "for num in range(1000,10000,1000):\n",
    "     range_list.append(num)\n",
    "for num in range(10000,50000,10000):\n",
    "     range_list.append(num)"
   ]
  },
  {
   "cell_type": "code",
   "execution_count": null,
   "metadata": {},
   "outputs": [],
   "source": [
    "b_keys = [f'block{num}' for num in range(len(range_list)-1)]\n",
    "\n",
    "google['price'] = pd.cut(google['price'], bins=range_list, labels=b_keys)\n",
    "amazon['price'] = pd.cut(amazon['price'], bins=range_list, labels=b_keys)\n",
    "\n",
    "block = {}\n",
    "for key in b_keys:\n",
    "    type_dict = {}\n",
    "    type_dict = defaultdict(list)\n",
    "    block[key] = type_dict\n",
    "block[np.nan] = type_dict"
   ]
  },
  {
   "cell_type": "code",
   "execution_count": null,
   "metadata": {},
   "outputs": [],
   "source": [
    "for i in range(len(amazon)):\n",
    "    if amazon['price'][i]:\n",
    "        block[amazon['price'][i]]['A'].append(amazon['idAmazon'][i])\n",
    "    else:\n",
    "        block[np.nan]['A'].append(amazon['idAmazon'][i])\n",
    "\n",
    "for i in range(len(google)):\n",
    "    if google['price'][i]:\n",
    "        block[google['price'][i]]['G'].append(google['id'][i])    \n",
    "    else:\n",
    "        block[np.nan]['G'].append(google['id'][i])"
   ]
  },
  {
   "cell_type": "code",
   "execution_count": null,
   "metadata": {},
   "outputs": [],
   "source": [
    "amazon_blocks = pd.DataFrame({'block_key':amazon['price'], 'product_id':amazon['idAmazon']})\n",
    "amazon_blocks.to_csv('amazon_blocks.csv', index=False)\n",
    "\n",
    "google_blocks = pd.DataFrame({'block_key':google['price'], 'product_id':google['id']})\n",
    "google_blocks.to_csv('google_blocks.csv', index=False)"
   ]
  }
 ],
 "metadata": {
  "kernelspec": {
   "display_name": "Python 3",
   "language": "python",
   "name": "python3"
  },
  "language_info": {
   "codemirror_mode": {
    "name": "ipython",
    "version": 3
   },
   "file_extension": ".py",
   "mimetype": "text/x-python",
   "name": "python",
   "nbconvert_exporter": "python",
   "pygments_lexer": "ipython3",
   "version": "3.7.4"
  }
 },
 "nbformat": 4,
 "nbformat_minor": 4
}
